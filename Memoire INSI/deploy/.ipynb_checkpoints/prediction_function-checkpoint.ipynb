{
 "cells": [
  {
   "cell_type": "code",
   "execution_count": 16,
   "id": "6caf1e12",
   "metadata": {},
   "outputs": [],
   "source": [
    "from tensorflow.keras.models import load_model\n",
    "import joblib\n",
    "import pandas as pd\n",
    "import numpy as np\n",
    "\n",
    "import nbformat\n",
    "from nbformat.v4 import new_code_cell\n"
   ]
  },
  {
   "cell_type": "code",
   "execution_count": 7,
   "id": "98de8f42",
   "metadata": {},
   "outputs": [],
   "source": [
    "model = joblib.load('final_model.pkl')"
   ]
  },
  {
   "cell_type": "code",
   "execution_count": 13,
   "id": "bf6972dd",
   "metadata": {},
   "outputs": [],
   "source": [
    "data = {'date': '08-03-2024'}\n",
    "\n",
    "def prediction(model, data):\n",
    "    target_datetime = pd.to_datetime(data['date'], format='%d-%m-%Y')\n",
    "\n",
    "    # Trouver le dernier index de votre série temporelle\n",
    "    last_index = serie_temporelle.index[-1]\n",
    "\n",
    "    # Calculer le nombre de steps entre le dernier index et la date donnée\n",
    "    steps = (target_datetime - last_index).months\n",
    "\n",
    "    # Faire une prédiction avec le modèle ARIMA pour les steps donnés\n",
    "    prediction = model.predict(steps=steps)[0]  # Nous utilisons [0] car la fonction forecast retourne un tuple (array, stderr, conf_int)\n",
    "\n",
    "#     print(\"Prédiction pour la date\", date, \":\", prediction)\n",
    "    \n",
    "    return prediction"
   ]
  },
  {
   "cell_type": "code",
   "execution_count": 14,
   "id": "383f8aae",
   "metadata": {},
   "outputs": [
    {
     "data": {
      "text/plain": [
       "'08-03-2024'"
      ]
     },
     "execution_count": 14,
     "metadata": {},
     "output_type": "execute_result"
    }
   ],
   "source": [
    "date = prediction(model,data)\n",
    "date"
   ]
  },
  {
   "cell_type": "code",
   "execution_count": null,
   "id": "a6efb908",
   "metadata": {},
   "outputs": [],
   "source": []
  }
 ],
 "metadata": {
  "kernelspec": {
   "display_name": "Python 3 (ipykernel)",
   "language": "python",
   "name": "python3"
  },
  "language_info": {
   "codemirror_mode": {
    "name": "ipython",
    "version": 3
   },
   "file_extension": ".py",
   "mimetype": "text/x-python",
   "name": "python",
   "nbconvert_exporter": "python",
   "pygments_lexer": "ipython3",
   "version": "3.11.5"
  }
 },
 "nbformat": 4,
 "nbformat_minor": 5
}
