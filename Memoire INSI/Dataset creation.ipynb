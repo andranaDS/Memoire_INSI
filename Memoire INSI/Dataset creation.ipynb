{
 "cells": [
  {
   "cell_type": "code",
   "execution_count": 1,
   "id": "75c341ee",
   "metadata": {},
   "outputs": [],
   "source": [
    "import numpy as np\n",
    "import pandas as pd\n",
    "import warnings\n",
    "import sys\n",
    "\n",
    "# Ignorer les warnings\n",
    "warnings.filterwarnings('ignore')\n",
    "\n",
    "# Fixer seed pour toujours avoir les valeurs aléatoires\n",
    "np.random.seed(2)\n",
    "\n",
    "features = ['ref_cli', 'prov', 'reg', 'com', 'fkt', 'date_dep_dmd', 'date_val_dmd',\n",
    "            'date_int', 'tar', 'cat', 'pce']\n",
    "\n",
    "cp_trn = np.arange(101, 120)\n",
    "cp_tve = np.arange(501, 519)\n",
    "cp_mjg = np.arange(401, 421)\n",
    "cp_fnr = np.arange(301, 324)\n",
    "cp_die = np.arange(202, 210)\n",
    "cp_tul = np.arange(601, 622)\n",
    "\n",
    "cp = dict()\n",
    "cp['Antananarivo'] = cp_trn\n",
    "\n",
    "\n",
    "# cp['Toamasina'] = cp_tve\n",
    "# cp['Mahajanga'] = cp_mjg\n",
    "# cp['Fianarantsoa'] = cp_fnr\n",
    "# cp['Antsiranana'] = cp_die\n",
    "# cp['Toliara'] = cp_tul\n"
   ]
  },
  {
   "cell_type": "markdown",
   "id": "4cf98597",
   "metadata": {},
   "source": [
    "### Contrainte & conditions: \n",
    "    - Depuis 2000 à 2023\n",
    "    - de janvier à décembre\n",
    "    - du 1 à 30/31 du mois\n",
    "    - Entre mois de Mai à octobre: augmentation\n",
    "    - pic au mois d'Aout\n",
    "    - Random de 1 à 10 (nombre de demandes déposées) "
   ]
  },
  {
   "cell_type": "code",
   "execution_count": 2,
   "id": "9c31e548",
   "metadata": {},
   "outputs": [],
   "source": [
    "# Liste des province, region, district, commune\n",
    "data_df = pd.read_csv('pro_reg_dist_com.csv', delimiter=';')\n",
    "data_df = data_df.drop('N°', axis=1)"
   ]
  },
  {
   "cell_type": "code",
   "execution_count": 3,
   "id": "9b2fba49",
   "metadata": {},
   "outputs": [
    {
     "name": "stdout",
     "output_type": "stream",
     "text": [
      "<class 'pandas.core.frame.DataFrame'>\n",
      "RangeIndex: 17121 entries, 0 to 17120\n",
      "Data columns (total 5 columns):\n",
      " #   Column     Non-Null Count  Dtype \n",
      "---  ------     --------------  ----- \n",
      " 0   fokontany  17121 non-null  object\n",
      " 1   Kaomina    17121 non-null  object\n",
      " 2   Distrika   17121 non-null  object\n",
      " 3   Region     17121 non-null  object\n",
      " 4   Province   17121 non-null  object\n",
      "dtypes: object(5)\n",
      "memory usage: 668.9+ KB\n"
     ]
    }
   ],
   "source": [
    "# Nettoyage des données\n",
    "df_copied = data_df.copy()\n",
    "\n",
    "# Remplacement des valeurs '\\\\N' par null\n",
    "df_copied.replace('\\\\N', np.nan, inplace=True)\n",
    "\n",
    "# Remplacement des valeurs 'Unknown Name' par null\n",
    "df_copied.replace('Unknown Name', np.nan, inplace=True)\n",
    "\n",
    "# Suppression de toutes les lignes contenant les valeurs nulles\n",
    "df_copied.dropna(inplace=True)\n",
    "\n",
    "# Réinitialistion de l'index après suppression\n",
    "fkt_df = df_copied.reset_index(drop=True)\n",
    "fkt_df.info()"
   ]
  },
  {
   "cell_type": "markdown",
   "id": "733ed2ba",
   "metadata": {},
   "source": [
    "D'après les informations affichées, il y a 17121 observations dans le data, lesquelles sont organisées en Provinces, Regions, Districts, Communes et Fokontany ou quartier.  \n",
    "Mais ce qui nous interesse c'est de récupérer seulement la liste des districts de la région d'Analamanga de la province d'Antananarivo. L'idée c'est de travailler sur un échantillon un peu réduit pour éviter les calculs trop important."
   ]
  },
  {
   "cell_type": "code",
   "execution_count": 4,
   "id": "a4c5414a",
   "metadata": {},
   "outputs": [
    {
     "data": {
      "text/plain": [
       "array(['Andramasina', 'Antananarivo-Avaradrano',\n",
       "       'Antananarivo-Atsimondrano', 'Manjakandriana', 'Ambohidratrimo',\n",
       "       'Anjozorobe', 'Ankazobe'], dtype=object)"
      ]
     },
     "execution_count": 4,
     "metadata": {},
     "output_type": "execute_result"
    }
   ],
   "source": [
    "# Filtre par Région d'Analamanga\n",
    "analamanga_df = fkt_df[fkt_df['Region'] == 'Analamanga']\n",
    "analamanga_df.reset_index(drop=True)\n",
    "\n",
    "# Récupération de la liste de districts\n",
    "districts = analamanga_df['Distrika'].unique()\n",
    "districts"
   ]
  },
  {
   "cell_type": "code",
   "execution_count": 5,
   "id": "3e267ae0",
   "metadata": {},
   "outputs": [
    {
     "data": {
      "text/html": [
       "<div>\n",
       "<style scoped>\n",
       "    .dataframe tbody tr th:only-of-type {\n",
       "        vertical-align: middle;\n",
       "    }\n",
       "\n",
       "    .dataframe tbody tr th {\n",
       "        vertical-align: top;\n",
       "    }\n",
       "\n",
       "    .dataframe thead th {\n",
       "        text-align: right;\n",
       "    }\n",
       "</style>\n",
       "<table border=\"1\" class=\"dataframe\">\n",
       "  <thead>\n",
       "    <tr style=\"text-align: right;\">\n",
       "      <th></th>\n",
       "      <th>district</th>\n",
       "      <th>nb_dmd</th>\n",
       "      <th>energy</th>\n",
       "      <th>date_dep_dmd</th>\n",
       "    </tr>\n",
       "  </thead>\n",
       "  <tbody>\n",
       "    <tr>\n",
       "      <th>0</th>\n",
       "      <td>Andramasina</td>\n",
       "      <td>223</td>\n",
       "      <td>114.990381</td>\n",
       "      <td>2000-01-01</td>\n",
       "    </tr>\n",
       "    <tr>\n",
       "      <th>1</th>\n",
       "      <td>Antananarivo-Avaradrano</td>\n",
       "      <td>228</td>\n",
       "      <td>111.990381</td>\n",
       "      <td>2000-01-01</td>\n",
       "    </tr>\n",
       "    <tr>\n",
       "      <th>2</th>\n",
       "      <td>Antananarivo-Atsimondrano</td>\n",
       "      <td>192</td>\n",
       "      <td>104.990381</td>\n",
       "      <td>2000-01-01</td>\n",
       "    </tr>\n",
       "    <tr>\n",
       "      <th>3</th>\n",
       "      <td>Manjakandriana</td>\n",
       "      <td>215</td>\n",
       "      <td>109.990381</td>\n",
       "      <td>2000-01-01</td>\n",
       "    </tr>\n",
       "    <tr>\n",
       "      <th>4</th>\n",
       "      <td>Ambohidratrimo</td>\n",
       "      <td>220</td>\n",
       "      <td>111.990381</td>\n",
       "      <td>2000-01-01</td>\n",
       "    </tr>\n",
       "    <tr>\n",
       "      <th>...</th>\n",
       "      <td>...</td>\n",
       "      <td>...</td>\n",
       "      <td>...</td>\n",
       "      <td>...</td>\n",
       "    </tr>\n",
       "    <tr>\n",
       "      <th>2011</th>\n",
       "      <td>Antananarivo-Atsimondrano</td>\n",
       "      <td>440</td>\n",
       "      <td>224.000000</td>\n",
       "      <td>2023-12-01</td>\n",
       "    </tr>\n",
       "    <tr>\n",
       "      <th>2012</th>\n",
       "      <td>Manjakandriana</td>\n",
       "      <td>446</td>\n",
       "      <td>222.000000</td>\n",
       "      <td>2023-12-01</td>\n",
       "    </tr>\n",
       "    <tr>\n",
       "      <th>2013</th>\n",
       "      <td>Ambohidratrimo</td>\n",
       "      <td>449</td>\n",
       "      <td>220.000000</td>\n",
       "      <td>2023-12-01</td>\n",
       "    </tr>\n",
       "    <tr>\n",
       "      <th>2014</th>\n",
       "      <td>Anjozorobe</td>\n",
       "      <td>442</td>\n",
       "      <td>230.000000</td>\n",
       "      <td>2023-12-01</td>\n",
       "    </tr>\n",
       "    <tr>\n",
       "      <th>2015</th>\n",
       "      <td>Ankazobe</td>\n",
       "      <td>441</td>\n",
       "      <td>223.000000</td>\n",
       "      <td>2023-12-01</td>\n",
       "    </tr>\n",
       "  </tbody>\n",
       "</table>\n",
       "<p>2016 rows × 4 columns</p>\n",
       "</div>"
      ],
      "text/plain": [
       "                       district  nb_dmd      energy date_dep_dmd\n",
       "0                   Andramasina     223  114.990381   2000-01-01\n",
       "1       Antananarivo-Avaradrano     228  111.990381   2000-01-01\n",
       "2     Antananarivo-Atsimondrano     192  104.990381   2000-01-01\n",
       "3                Manjakandriana     215  109.990381   2000-01-01\n",
       "4                Ambohidratrimo     220  111.990381   2000-01-01\n",
       "...                         ...     ...         ...          ...\n",
       "2011  Antananarivo-Atsimondrano     440  224.000000   2023-12-01\n",
       "2012             Manjakandriana     446  222.000000   2023-12-01\n",
       "2013             Ambohidratrimo     449  220.000000   2023-12-01\n",
       "2014                 Anjozorobe     442  230.000000   2023-12-01\n",
       "2015                   Ankazobe     441  223.000000   2023-12-01\n",
       "\n",
       "[2016 rows x 4 columns]"
      ]
     },
     "execution_count": 5,
     "metadata": {},
     "output_type": "execute_result"
    }
   ],
   "source": [
    "import random\n",
    "\n",
    "# Création des données\n",
    "years = range(2000, 2024)\n",
    "\n",
    "data = {'district': [],\n",
    "        'nb_dmd': [],\n",
    "        'energy': [],\n",
    "        'date_dep_dmd': []}\n",
    "\n",
    "for year in years:\n",
    "    for month in range(1, 13):\n",
    "        for district in districts:\n",
    "            # Génération de la demande en électricité avec une saisonnalité et une tendance progressive\n",
    "            demand = 200 + 10 * (year - 2000) + np.sin(month * np.pi / 6) * 20\n",
    "            demand = int(demand)\n",
    "            # Ajout d'une variation chaque année\n",
    "            demand += random.randint(-20, 20)\n",
    "            # Pique au mois de juillet\n",
    "            if month == 7:\n",
    "                demand += random.randint(30, 50)\n",
    "\n",
    "            # Génération de la puissance énergétique avec une saisonnalité et une tendance progressive\n",
    "            power = 100 + 5 * (year - 2000) + np.cos(month * np.pi / 6) * 15\n",
    "            # Ajout d'une variation chaque année\n",
    "            power += random.randint(-10, 10)\n",
    "            # Pique au mois de juillet\n",
    "            if month == 7:\n",
    "                power += random.randint(20, 30)\n",
    "\n",
    "            data['district'].append(district)\n",
    "            data['nb_dmd'].append(demand)\n",
    "            data['energy'].append(power)\n",
    "            data['date_dep_dmd'].append(pd.Timestamp(year, month, 1))\n",
    "\n",
    "# Création du dataframe\n",
    "df = pd.DataFrame(data)\n",
    "\n",
    "df"
   ]
  },
  {
   "cell_type": "markdown",
   "id": "f439a572",
   "metadata": {},
   "source": [
    "**date_dep_dmd**: c'est la date de dépôt de la demande. C'est l'index du Dataframe.  \n",
    "\n",
    "**district**: Nom des disctricts\n",
    "\n",
    "**nb_dmd**: Nombre de demandes déposées\n",
    "\n",
    "**energy**: Puissance d'energie, en KWh, équivalente au nombre de demande."
   ]
  },
  {
   "cell_type": "markdown",
   "id": "3e70d712",
   "metadata": {},
   "source": [
    "On sauvegarde les données aux format 'csv' pour une utilisation ultérieure"
   ]
  },
  {
   "cell_type": "code",
   "execution_count": 6,
   "id": "95826746",
   "metadata": {},
   "outputs": [],
   "source": [
    "df.to_csv('energy_antananarivo.csv', index=False)"
   ]
  }
 ],
 "metadata": {
  "kernelspec": {
   "display_name": "Python 3 (ipykernel)",
   "language": "python",
   "name": "python3"
  },
  "language_info": {
   "codemirror_mode": {
    "name": "ipython",
    "version": 3
   },
   "file_extension": ".py",
   "mimetype": "text/x-python",
   "name": "python",
   "nbconvert_exporter": "python",
   "pygments_lexer": "ipython3",
   "version": "3.11.5"
  }
 },
 "nbformat": 4,
 "nbformat_minor": 5
}
